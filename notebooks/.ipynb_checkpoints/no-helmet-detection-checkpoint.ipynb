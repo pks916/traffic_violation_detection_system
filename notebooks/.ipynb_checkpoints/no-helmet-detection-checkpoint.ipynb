{
 "cells": [
  {
   "cell_type": "code",
   "execution_count": 1,
   "metadata": {
    "execution": {
     "iopub.execute_input": "2023-10-27T15:19:13.466694Z",
     "iopub.status.busy": "2023-10-27T15:19:13.466290Z",
     "iopub.status.idle": "2023-10-27T15:19:13.472504Z",
     "shell.execute_reply": "2023-10-27T15:19:13.471497Z",
     "shell.execute_reply.started": "2023-10-27T15:19:13.466660Z"
    }
   },
   "outputs": [],
   "source": [
    "import yaml\n",
    "import cv2\n",
    "import numpy as np\n",
    "from ultralytics import YOLO\n",
    "\n",
    "from ultralytics.utils.checks import check_imshow\n",
    "from ultralytics.utils.plotting import Annotator, colors\n",
    "\n",
    "from collections import defaultdict"
   ]
  },
  {
   "cell_type": "code",
   "execution_count": 3,
   "metadata": {},
   "outputs": [],
   "source": [
    "with open('E:/code/projects/traffic_surveillance_app/config.yaml', 'r') as file:\n",
    "    cfg = yaml.safe_load(file)"
   ]
  },
  {
   "cell_type": "code",
   "execution_count": 4,
   "metadata": {
    "execution": {
     "iopub.execute_input": "2023-10-27T15:03:24.717049Z",
     "iopub.status.busy": "2023-10-27T15:03:24.716656Z",
     "iopub.status.idle": "2023-10-27T15:03:32.522244Z",
     "shell.execute_reply": "2023-10-27T15:03:32.521323Z",
     "shell.execute_reply.started": "2023-10-27T15:03:24.717010Z"
    }
   },
   "outputs": [],
   "source": [
    "# from roboflow import Roboflow\n",
    "# rf = Roboflow(api_key=cfg['ROBOFLOW_API_KEY'])\n",
    "# project = rf.workspace(\"bike-helmets\").project(\"bike-helmet-detection-2vdjo\")\n",
    "# dataset = project.version(2).download(\"yolov8\", \"E:/code/projects/traffic_surveillance_app/input\")"
   ]
  },
  {
   "cell_type": "code",
   "execution_count": 2,
   "metadata": {
    "execution": {
     "iopub.execute_input": "2023-10-27T15:04:31.716802Z",
     "iopub.status.busy": "2023-10-27T15:04:31.716467Z"
    }
   },
   "outputs": [
    {
     "name": "stderr",
     "output_type": "stream",
     "text": [
      "PRO TIP  Replace 'model=models/yolov3-tiny.pt' with new 'model=models/yolov3-tinyu.pt'.\n",
      "YOLOv5 'u' models are trained with https://github.com/ultralytics/ultralytics and feature improved performance vs standard YOLOv5 models trained with https://github.com/ultralytics/yolov5.\n",
      "\n",
      "Downloading https://github.com/ultralytics/assets/releases/download/v0.0.0/yolov3-tinyu.pt to 'models\\yolov3-tinyu.pt'...\n",
      "100%|██████████| 23.3M/23.3M [00:29<00:00, 828kB/s] \n"
     ]
    },
    {
     "ename": "",
     "evalue": "",
     "output_type": "error",
     "traceback": [
      "\u001b[1;31mThe Kernel crashed while executing code in the current cell or a previous cell. \n",
      "\u001b[1;31mPlease review the code in the cell(s) to identify a possible cause of the failure. \n",
      "\u001b[1;31mClick <a href='https://aka.ms/vscodeJupyterKernelCrash'>here</a> for more info. \n",
      "\u001b[1;31mView Jupyter <a href='command:jupyter.viewOutput'>log</a> for further details."
     ]
    }
   ],
   "source": [
    "# track_history = defaultdict(lambda: [])\n",
    "# model = YOLO(\"models/yolov3-tiny.pt\")\n",
    "# names = model.model.names\n",
    "\n",
    "# video_path = 'E:/code/projects/traffic_surveillance_app/input/traffic2.mp4'\n",
    "# cap = cv2.VideoCapture(video_path)\n",
    "# assert cap.isOpened(), \"Error reading video file\"\n",
    "\n",
    "# w, h, fps = (int(cap.get(x)) for x in (cv2.CAP_PROP_FRAME_WIDTH, cv2.CAP_PROP_FRAME_HEIGHT, cv2.CAP_PROP_FPS))\n",
    "\n",
    "# result = cv2.VideoWriter(\"object_tracking.mp4\",\n",
    "#                        cv2.VideoWriter_fourcc(*'mp4v'),\n",
    "#                        fps,\n",
    "#                        (w, h))\n",
    "\n",
    "# while cap.isOpened():\n",
    "#     success, frame = cap.read()\n",
    "#     if success:\n",
    "#         results = model.track(frame, persist=True, verbose=False, device=\"cpu\")\n",
    "#         boxes = results[0].boxes.xyxy.cpu()\n",
    "\n",
    "#         if results[0].boxes.id is not None:\n",
    "\n",
    "#             # Extract prediction results\n",
    "#             clss = results[0].boxes.cls.cpu().tolist()\n",
    "#             track_ids = results[0].boxes.id.int().cpu().tolist()\n",
    "#             confs = results[0].boxes.conf.float().cpu().tolist()\n",
    "\n",
    "#             # Annotator Init\n",
    "#             annotator = Annotator(frame, line_width=2)\n",
    "\n",
    "#             for box, cls, track_id in zip(boxes, clss, track_ids):\n",
    "#                 annotator.box_label(box, color=colors(int(cls), True), label=names[int(cls)])\n",
    "\n",
    "#                 # Store tracking history\n",
    "#                 track = track_history[track_id]\n",
    "#                 track.append((int((box[0] + box[2]) / 2), int((box[1] + box[3]) / 2)))\n",
    "#                 if len(track) > 30:\n",
    "#                     track.pop(0)\n",
    "\n",
    "#                 # Plot tracks\n",
    "#                 points = np.array(track, dtype=np.int32).reshape((-1, 1, 2))\n",
    "#                 cv2.circle(frame, (track[-1]), 7, colors(int(cls), True), -1)\n",
    "#                 # cv2.polylines(frame, [points], isClosed=False, color=colors(int(cls), True), thickness=2)\n",
    "\n",
    "#         result.write(frame)\n",
    "#         if cv2.waitKey(1) & 0xFF == ord(\"q\"):\n",
    "#             break\n",
    "#     else:\n",
    "#         break    \n",
    "\n",
    "# result.release()\n",
    "# cap.release()\n",
    "# cv2.destroyAllWindows()"
   ]
  },
  {
   "cell_type": "code",
   "execution_count": null,
   "metadata": {},
   "outputs": [],
   "source": []
  }
 ],
 "metadata": {
  "kernelspec": {
   "display_name": "Python 3 (ipykernel)",
   "language": "python",
   "name": "python3"
  },
  "language_info": {
   "codemirror_mode": {
    "name": "ipython",
    "version": 3
   },
   "file_extension": ".py",
   "mimetype": "text/x-python",
   "name": "python",
   "nbconvert_exporter": "python",
   "pygments_lexer": "ipython3",
   "version": "3.11.3"
  }
 },
 "nbformat": 4,
 "nbformat_minor": 4
}
