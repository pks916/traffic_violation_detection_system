{
 "cells": [
  {
   "cell_type": "code",
   "execution_count": 1,
   "metadata": {},
   "outputs": [
    {
     "name": "stdout",
     "output_type": "stream",
     "text": [
      "e:\\code\\projects\\traffic_surveillance_app\n"
     ]
    }
   ],
   "source": [
    "from ultralytics import YOLO\n",
    "%cd .."
   ]
  },
  {
   "cell_type": "code",
   "execution_count": 2,
   "metadata": {},
   "outputs": [
    {
     "name": "stderr",
     "output_type": "stream",
     "text": [
      "Ultralytics YOLOv8.0.149  Python-3.11.3 torch-2.0.1+cu118 CPU (Intel Core(TM) i5-10300H 2.50GHz)\n",
      "YOLOv8n summary (fused): 168 layers, 3151904 parameters, 0 gradients, 8.7 GFLOPs\n",
      "\n",
      "\u001b[34m\u001b[1mPyTorch:\u001b[0m starting from 'models\\yolov8n.pt' with input shape (1, 3, 1088, 736) BCHW and output shape(s) (1, 84, 16422) (6.2 MB)\n",
      "\n",
      "\u001b[34m\u001b[1mONNX:\u001b[0m starting export with onnx 1.15.0 opset 17...\n",
      "\u001b[34m\u001b[1mONNX:\u001b[0m export success  1.6s, saved as 'models\\yolov8n.onnx' (12.4 MB)\n",
      "\n",
      "Export complete (5.4s)\n",
      "Results saved to \u001b[1mE:\\code\\projects\\traffic_surveillance_app\\models\u001b[0m\n",
      "Predict:         yolo predict task=detect model=models\\yolov8n.onnx imgsz=1088,736 \n",
      "Validate:        yolo val task=detect model=models\\yolov8n.onnx imgsz=1088,736 data=coco.yaml WARNING  non-PyTorch val requires square images, 'imgsz=[1088, 736]' will not work. Use export 'imgsz=1088' if val is required.\n",
      "Visualize:       https://netron.app\n"
     ]
    },
    {
     "name": "stdout",
     "output_type": "stream",
     "text": [
      "============= Diagnostic Run torch.onnx.export version 2.0.1+cu118 =============\n",
      "verbose: False, log level: Level.ERROR\n",
      "======================= 0 NONE 0 NOTE 0 WARNING 0 ERROR ========================\n",
      "\n"
     ]
    },
    {
     "data": {
      "text/plain": [
       "'models\\\\yolov8n.onnx'"
      ]
     },
     "execution_count": 2,
     "metadata": {},
     "output_type": "execute_result"
    }
   ],
   "source": [
    "model = YOLO('models/yolov8n.pt')\n",
    "model.export(format='onnx', imgsz=(1088,736))"
   ]
  },
  {
   "cell_type": "code",
   "execution_count": null,
   "metadata": {},
   "outputs": [],
   "source": []
  }
 ],
 "metadata": {
  "kernelspec": {
   "display_name": "base",
   "language": "python",
   "name": "python3"
  },
  "language_info": {
   "codemirror_mode": {
    "name": "ipython",
    "version": 3
   },
   "file_extension": ".py",
   "mimetype": "text/x-python",
   "name": "python",
   "nbconvert_exporter": "python",
   "pygments_lexer": "ipython3",
   "version": "3.11.3"
  }
 },
 "nbformat": 4,
 "nbformat_minor": 2
}
